import pandas as pd
import matplotlib.pyplot as plt
from sklearn.linear_model import LinearRegression
import seaborn as sns

# Load the dataset from CSV file
# Replace "homeprices.csv" with the actual file path if needed
df = pd.read_csv("itemp.csv")

# Check if the CSV has the required columns
if 'area' not in df.columns or 'price' not in df.columns:
    raise ValueError("Dataset must contain 'area' and 'price' columns")

# Features (X) and Target (y)
X = df[['area']]  # Independent variable (area)
y = df['price']   # Dependent variable (price)

# Create and fit the Linear Regression model
model = LinearRegression()
model.fit(X, y)

# Predict prices for the given areas
predicted_prices = model.predict(X)

# Display the results
print("Predicted Prices for the given areas:")
for area, price in zip(df['area'], predicted_prices):
    print(f"Area: {area}, Predicted Price: {price:.2f}")

# Plotting the original data and the regression line
plt.figure(figsize=(10, 6))

# Scatter plot of the original data points
sns.scatterplot(x=df['area'], y=df['price'], color='blue', label='Actual Prices')

# Plot the regression line
plt.plot(df['area'], predicted_prices, color='red', linewidth=2, label='Regression Line')

# Add labels and title
plt.xlabel('Area (sq ft)')
plt.ylabel('Price ($)')
plt.title('Linear Regression: Area vs Price')
plt.legend()

# Show the plot
plt.show()
